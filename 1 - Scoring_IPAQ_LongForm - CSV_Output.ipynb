{
 "cells": [
  {
   "cell_type": "code",
   "execution_count": 1,
   "id": "6235e6f0-db90-409d-9d83-22946c6222f7",
   "metadata": {},
   "outputs": [],
   "source": [
    "import os\n",
    "import os.path\n",
    "import fnmatch\n",
    "import pandas as pd\n",
    "import string"
   ]
  },
  {
   "attachments": {},
   "cell_type": "markdown",
   "id": "0c75814a-1a31-4c06-8c17-f5d53b5ee749",
   "metadata": {},
   "source": [
    "### Domains Functions"
   ]
  },
  {
   "cell_type": "code",
   "execution_count": 2,
   "id": "27080ba2-4c4e-4f3a-b658-370697e6f6de",
   "metadata": {},
   "outputs": [],
   "source": [
    "class Subject:\n",
    "    def __init__(self, subject_dict):\n",
    "        self.subject_dict = subject_dict\n",
    "        self.id = subject_dict['ID']\n",
    "        \n",
    "        self.total_walking_MET_minutes_week = 0\n",
    "        self.total_moderate_MET_minutes_week = 0\n",
    "        self.total_vigorous_MET_minutes_week = 0\n",
    "        \n",
    "        self.work_MET_minutes_week = self.work_MET_minutes_week()\n",
    "        self.transport_MET_minutes_week = self.transport_MET_minutes_week()\n",
    "        self.domestic_yard_MET_minutes_week = self.domestic_yard_MET_minutes_week()\n",
    "        self.leisure_MET_minutes_week = self.leisure_MET_minutes_week()\n",
    "        \n",
    "        self.MET = self.work_MET_minutes_week + self.transport_MET_minutes_week + self.domestic_yard_MET_minutes_week + self.leisure_MET_minutes_week\n",
    "        \n",
    "        self.category = ''\n",
    "        \n",
    "    # Functions for the Categorical conversion\n",
    "    def sum_vigorous_days(self):\n",
    "        return self.subject_dict['Work_Vigorous_Days'] + self.subject_dict['Leisure_Vigorous_Days'] \n",
    "    \n",
    "    def sum_moderate_days(self):\n",
    "        return self.subject_dict['Work_Moderate_Days'] + self.subject_dict['Transport_Cycle_Days'] + self.subject_dict['Yard_Moderate_Days'] + self.subject_dict['Yard_Vigorous_Days'] + self.subject_dict['Domestic_Moderate_Days'] + self.subject_dict['Leisure_Moderate_Days'] \n",
    "      \n",
    "    def sum_all_combinations(self):\n",
    "        sum_work_days = self.subject_dict['Work_Walking_Days'] + self.subject_dict['Work_Moderate_Days'] + self.subject_dict['Work_Vigorous_Days']\n",
    "        sum_transport_days = self.subject_dict['Transport_Walking_Days'] + self.subject_dict['Transport_Cycle_Days']\n",
    "        sum_domestic_yard_days = self.subject_dict['Domestic_Moderate_Days'] + self.subject_dict['Yard_Moderate_Days'] + self.subject_dict['Yard_Vigorous_Days']\n",
    "        sum_leisure_days = self.subject_dict['Leisure_Walking_Days'] + self.subject_dict['Leisure_Moderate_Days'] + self.subject_dict['Leisure_Vigorous_Days']\n",
    "        return sum_work_days + sum_transport_days + sum_domestic_yard_days + sum_leisure_days\n",
    "    \n",
    "    def check_vigorous_20_minutes(self):\n",
    "        if self.subject_dict['Work_Vigorous_Minutes'] >= 20 and self.subject_dict['Leisure_Vigorous_Minutes'] >= 20:\n",
    "            return True\n",
    "        else:\n",
    "            return False\n",
    "        \n",
    "    def check_walking_30_minutes(self):\n",
    "        if self.subject_dict['Work_Walking_Minutes'] >= 30 and self.subject_dict['Transport_Walking_Minutes'] >= 30 and self.subject_dict['Leisure_Walking_Minutes'] >= 30:\n",
    "            return True\n",
    "        else:\n",
    "            return False\n",
    "    \n",
    "    # MET Evaluation\n",
    "    # Work Domain\n",
    "    def work_MET_minutes_week(self):\n",
    "        walking_MET_minutes_week = 3.3 * float(self.subject_dict['Work_Walking_Days']) * float(self.subject_dict['Work_Walking_Minutes'])\n",
    "        moderate_MET_minutes_week = 4.0 * float(self.subject_dict['Work_Moderate_Days']) * float(self.subject_dict['Work_Moderate_Minutes'])\n",
    "        vigorous_MET_minutes_week = 8.0 * float(self.subject_dict['Work_Vigorous_Days']) * float(self.subject_dict['Work_Vigorous_Minutes'])\n",
    "        \n",
    "        self.total_walking_MET_minutes_week = self.total_walking_MET_minutes_week + walking_MET_minutes_week\n",
    "        self.total_moderate_MET_minutes_week = self.total_moderate_MET_minutes_week + moderate_MET_minutes_week\n",
    "        self.total_vigorous_MET_minutes_week = self.total_vigorous_MET_minutes_week + vigorous_MET_minutes_week\n",
    "        \n",
    "        return walking_MET_minutes_week + moderate_MET_minutes_week + vigorous_MET_minutes_week\n",
    "\n",
    "    # Transport Domain\n",
    "    def transport_MET_minutes_week(self):\n",
    "        walking_MET_minutes_week = 3.3 * float(self.subject_dict['Transport_Walking_Days']) * float(self.subject_dict['Transport_Walking_Minutes'])\n",
    "        cycling_MET_minutes_week = 6.0 * float(self.subject_dict['Transport_Cycle_Days']) * float(self.subject_dict['Transport_Cycle_Minutes'])\n",
    "        \n",
    "        self.total_walking_MET_minutes_week = self.total_walking_MET_minutes_week + walking_MET_minutes_week\n",
    "        self.total_moderate_MET_minutes_week = self.total_moderate_MET_minutes_week + cycling_MET_minutes_week\n",
    "        \n",
    "        return walking_MET_minutes_week + cycling_MET_minutes_week \n",
    "\n",
    "    # Domestic & Yard Domain\n",
    "    def domestic_yard_MET_minutes_week(self):\n",
    "        vigorous_yard_MET_minutes_week = 5.5 * float(self.subject_dict['Yard_Vigorous_Days']) * float(self.subject_dict['Yard_Vigorous_Minutes'])\n",
    "        moderate_yard_MET_minutes_week = 4.0 * float(self.subject_dict['Yard_Moderate_Days']) * float(self.subject_dict['Yard_Moderate_Minutes'])\n",
    "        moderate_domestic_MET_minutes_week = 3.0 * float(self.subject_dict['Domestic_Moderate_Days']) * float(self.subject_dict['Domestic_Moderate_Minutes'])\n",
    "        \n",
    "        self.total_moderate_MET_minutes_week = self.total_moderate_MET_minutes_week + vigorous_yard_MET_minutes_week + moderate_yard_MET_minutes_week + moderate_domestic_MET_minutes_week\n",
    "        \n",
    "        return vigorous_yard_MET_minutes_week + moderate_yard_MET_minutes_week + moderate_domestic_MET_minutes_week\n",
    "\n",
    "    # Leisure Domain\n",
    "    def leisure_MET_minutes_week(self):\n",
    "        walking_MET_minutes_week = 3.3 * float(self.subject_dict['Leisure_Walking_Days']) * float(self.subject_dict['Leisure_Walking_Minutes'])\n",
    "        moderate_MET_minutes_week = 4.0 * float(self.subject_dict['Leisure_Moderate_Days']) * float(self.subject_dict['Leisure_Moderate_Minutes'])\n",
    "        vigorous_MET_minutes_week = 8.0 * float(self.subject_dict['Leisure_Vigorous_Days']) * float(self.subject_dict['Leisure_Vigorous_Minutes'])\n",
    "        \n",
    "        self.total_walking_MET_minutes_week = self.total_walking_MET_minutes_week + walking_MET_minutes_week\n",
    "        self.total_moderate_MET_minutes_week = self.total_moderate_MET_minutes_week + moderate_MET_minutes_week\n",
    "        self.total_vigorous_MET_minutes_week = self.total_vigorous_MET_minutes_week + vigorous_MET_minutes_week\n",
    "        \n",
    "        return walking_MET_minutes_week + moderate_MET_minutes_week + vigorous_MET_minutes_week\n",
    "    \n",
    "    # MET evaluated in both ways\n",
    "    def MET_minutes_week(self):\n",
    "        return self.work_MET_minutes_week + self.transport_MET_minutes_week + self.domestic_yard_MET_minutes_week + self.leisure_MET_minutes_week\n",
    "    \n",
    "    def total_MET_minutes_week(self):\n",
    "        return self.total_walking_MET_minutes_week + self.total_moderate_MET_minutes_week + self.total_vigorous_MET_minutes_week\n",
    "    "
   ]
  },
  {
   "attachments": {},
   "cell_type": "markdown",
   "id": "c7b47f0d-3222-4ad5-9d2f-beed15b54324",
   "metadata": {},
   "source": [
    "### Main"
   ]
  },
  {
   "cell_type": "code",
   "execution_count": 3,
   "id": "f788a500-26f8-43ef-85e2-3d32ff9b9531",
   "metadata": {},
   "outputs": [],
   "source": [
    "spreadsheet_path = \"/input_IPAQ_spreadsheet.csv\"\n",
    "\n",
    "df = pd.read_csv(spreadsheet_path)\n",
    "dict_df = df.to_dict(orient='records')"
   ]
  },
  {
   "attachments": {},
   "cell_type": "markdown",
   "id": "96f5c871-5d93-479e-b9f3-936b9c3b2ddb",
   "metadata": {},
   "source": [
    "### Categorical conversion"
   ]
  },
  {
   "cell_type": "code",
   "execution_count": 4,
   "id": "2669ba78-4706-41dc-82f4-af6bbf2ab9ff",
   "metadata": {},
   "outputs": [],
   "source": [
    "out_df_rows = []\n",
    "\n",
    "for i in range(len(df)):\n",
    "    subject = Subject(dict_df[i])\n",
    "    \n",
    "    if (subject.MET >= 1500 and subject.sum_vigorous_days() >= 3) or \\\n",
    "            (subject.MET >= 3000 and subject.sum_all_combinations() >= 7):\n",
    "                subject.category = 'High'\n",
    "        \n",
    "    elif (subject.sum_vigorous_days() >= 3 and subject.check_vigorous_20_minutes() == True) or \\\n",
    "            (subject.sum_moderate_days() >= 5 or subject.check_walking_30_minutes() == True) or \\\n",
    "                (subject.MET >= 600 and subject.sum_all_combinations() >= 5):\n",
    "                    subject.category = 'Moderate'\n",
    "    else:\n",
    "        subject.category = 'Low'\n",
    "        \n",
    "    out_df_rows.append([subject.id, subject.category])    "
   ]
  },
  {
   "attachments": {},
   "cell_type": "markdown",
   "id": "c69bf92f-501e-4ed9-a28b-20e2b52a6f03",
   "metadata": {},
   "source": [
    "### Create new Dataframe"
   ]
  },
  {
   "cell_type": "code",
   "execution_count": 5,
   "id": "41beef72-f4c8-4f09-8195-658fd605cbe0",
   "metadata": {},
   "outputs": [],
   "source": [
    "out_df = pd.DataFrame(out_df_rows, columns=[\"ID\", \"IPAQ_Category\"])"
   ]
  },
  {
   "cell_type": "code",
   "execution_count": 6,
   "id": "ae77832e-cf26-47a6-858e-e8889e91aca4",
   "metadata": {},
   "outputs": [],
   "source": [
    "out_df.to_csv('subjects_categories.csv', index=False)"
   ]
  }
 ],
 "metadata": {
  "kernelspec": {
   "display_name": "Python 3 (ipykernel)",
   "language": "python",
   "name": "python3"
  },
  "language_info": {
   "codemirror_mode": {
    "name": "ipython",
    "version": 3
   },
   "file_extension": ".py",
   "mimetype": "text/x-python",
   "name": "python",
   "nbconvert_exporter": "python",
   "pygments_lexer": "ipython3",
   "version": "3.8.13"
  }
 },
 "nbformat": 4,
 "nbformat_minor": 5
}
