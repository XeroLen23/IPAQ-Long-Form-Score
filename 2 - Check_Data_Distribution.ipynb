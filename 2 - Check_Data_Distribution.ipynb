{
 "cells": [
  {
   "cell_type": "code",
   "execution_count": 1,
   "id": "6235e6f0-db90-409d-9d83-22946c6222f7",
   "metadata": {},
   "outputs": [],
   "source": [
    "import os\n",
    "import os.path\n",
    "import fnmatch\n",
    "import pandas as pd\n",
    "import string"
   ]
  },
  {
   "cell_type": "code",
   "execution_count": 2,
   "id": "27080ba2-4c4e-4f3a-b658-370697e6f6de",
   "metadata": {},
   "outputs": [],
   "source": [
    "spreadsheet_path = \"/home/xerolen/Documents/19_09_Check IPAQ Distribution & AUC/subjects_categories.csv\"\n",
    "\n",
    "df = pd.read_csv(spreadsheet_path)"
   ]
  },
  {
   "cell_type": "code",
   "execution_count": 3,
   "id": "7f916d93-5058-418c-b774-63d8f29b8655",
   "metadata": {},
   "outputs": [],
   "source": [
    "low_list = []\n",
    "moderate_list = []\n",
    "high_list = []\n",
    "\n",
    "for i in range(len(df)):\n",
    "    if df[\"IPAQ_Category\"][i] == \"High\":\n",
    "        high_list.append(df[\"ID\"][i])\n",
    "    elif df[\"IPAQ_Category\"][i] == \"Moderate\":\n",
    "        moderate_list.append(df[\"ID\"][i])\n",
    "    else:\n",
    "        low_list.append(df[\"ID\"][i])\n",
    "        "
   ]
  },
  {
   "cell_type": "code",
   "execution_count": 4,
   "id": "0efe59fe-c362-4201-b496-e0c9f61663c7",
   "metadata": {},
   "outputs": [
    {
     "name": "stdout",
     "output_type": "stream",
     "text": [
      "Length Low list: 4\n",
      "Length Moderate list: 11\n",
      "Length High list: 26\n"
     ]
    }
   ],
   "source": [
    "print(\"Length Low list:\", len(low_list))\n",
    "print(\"Length Moderate list:\", len(moderate_list))\n",
    "print(\"Length High list:\", len(high_list))"
   ]
  },
  {
   "cell_type": "code",
   "execution_count": 5,
   "id": "6b080562-296d-4b91-84db-334875ac7666",
   "metadata": {},
   "outputs": [
    {
     "name": "stdout",
     "output_type": "stream",
     "text": [
      "['1J5emTS2', 'FBr2FFs5', 'YRp361yG', 'a5D75okC']\n"
     ]
    }
   ],
   "source": [
    "print(low_list)"
   ]
  }
 ],
 "metadata": {
  "kernelspec": {
   "display_name": "Python 3 (ipykernel)",
   "language": "python",
   "name": "python3"
  },
  "language_info": {
   "codemirror_mode": {
    "name": "ipython",
    "version": 3
   },
   "file_extension": ".py",
   "mimetype": "text/x-python",
   "name": "python",
   "nbconvert_exporter": "python",
   "pygments_lexer": "ipython3",
   "version": "3.8.13"
  }
 },
 "nbformat": 4,
 "nbformat_minor": 5
}
